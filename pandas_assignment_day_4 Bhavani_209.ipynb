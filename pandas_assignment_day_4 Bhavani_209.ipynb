{
 "cells": [
  {
   "cell_type": "markdown",
   "metadata": {
    "id": "vbBnPGyZkbtk"
   },
   "source": [
    "##### import the Diamond dataset"
   ]
  },
  {
   "cell_type": "code",
   "execution_count": 2,
   "metadata": {},
   "outputs": [
    {
     "data": {
      "text/html": [
       "<div>\n",
       "<style scoped>\n",
       "    .dataframe tbody tr th:only-of-type {\n",
       "        vertical-align: middle;\n",
       "    }\n",
       "\n",
       "    .dataframe tbody tr th {\n",
       "        vertical-align: top;\n",
       "    }\n",
       "\n",
       "    .dataframe thead th {\n",
       "        text-align: right;\n",
       "    }\n",
       "</style>\n",
       "<table border=\"1\" class=\"dataframe\">\n",
       "  <thead>\n",
       "    <tr style=\"text-align: right;\">\n",
       "      <th></th>\n",
       "      <th>Unnamed: 0</th>\n",
       "      <th>carat</th>\n",
       "      <th>cut</th>\n",
       "      <th>color</th>\n",
       "      <th>clarity</th>\n",
       "      <th>depth</th>\n",
       "      <th>table</th>\n",
       "      <th>price</th>\n",
       "      <th>x</th>\n",
       "      <th>y</th>\n",
       "      <th>z</th>\n",
       "    </tr>\n",
       "  </thead>\n",
       "  <tbody>\n",
       "    <tr>\n",
       "      <th>0</th>\n",
       "      <td>1</td>\n",
       "      <td>0.23</td>\n",
       "      <td>Ideal</td>\n",
       "      <td>E</td>\n",
       "      <td>SI2</td>\n",
       "      <td>61.5</td>\n",
       "      <td>55.0</td>\n",
       "      <td>326</td>\n",
       "      <td>3.95</td>\n",
       "      <td>3.98</td>\n",
       "      <td>2.43</td>\n",
       "    </tr>\n",
       "    <tr>\n",
       "      <th>1</th>\n",
       "      <td>2</td>\n",
       "      <td>0.21</td>\n",
       "      <td>Premium</td>\n",
       "      <td>E</td>\n",
       "      <td>SI1</td>\n",
       "      <td>59.8</td>\n",
       "      <td>61.0</td>\n",
       "      <td>326</td>\n",
       "      <td>3.89</td>\n",
       "      <td>3.84</td>\n",
       "      <td>2.31</td>\n",
       "    </tr>\n",
       "    <tr>\n",
       "      <th>2</th>\n",
       "      <td>3</td>\n",
       "      <td>0.23</td>\n",
       "      <td>Good</td>\n",
       "      <td>E</td>\n",
       "      <td>VS1</td>\n",
       "      <td>56.9</td>\n",
       "      <td>65.0</td>\n",
       "      <td>327</td>\n",
       "      <td>4.05</td>\n",
       "      <td>4.07</td>\n",
       "      <td>2.31</td>\n",
       "    </tr>\n",
       "    <tr>\n",
       "      <th>3</th>\n",
       "      <td>4</td>\n",
       "      <td>0.29</td>\n",
       "      <td>Premium</td>\n",
       "      <td>I</td>\n",
       "      <td>VS2</td>\n",
       "      <td>62.4</td>\n",
       "      <td>58.0</td>\n",
       "      <td>334</td>\n",
       "      <td>4.20</td>\n",
       "      <td>4.23</td>\n",
       "      <td>2.63</td>\n",
       "    </tr>\n",
       "    <tr>\n",
       "      <th>4</th>\n",
       "      <td>5</td>\n",
       "      <td>0.31</td>\n",
       "      <td>Good</td>\n",
       "      <td>J</td>\n",
       "      <td>SI2</td>\n",
       "      <td>63.3</td>\n",
       "      <td>58.0</td>\n",
       "      <td>335</td>\n",
       "      <td>4.34</td>\n",
       "      <td>4.35</td>\n",
       "      <td>2.75</td>\n",
       "    </tr>\n",
       "    <tr>\n",
       "      <th>...</th>\n",
       "      <td>...</td>\n",
       "      <td>...</td>\n",
       "      <td>...</td>\n",
       "      <td>...</td>\n",
       "      <td>...</td>\n",
       "      <td>...</td>\n",
       "      <td>...</td>\n",
       "      <td>...</td>\n",
       "      <td>...</td>\n",
       "      <td>...</td>\n",
       "      <td>...</td>\n",
       "    </tr>\n",
       "    <tr>\n",
       "      <th>53935</th>\n",
       "      <td>53936</td>\n",
       "      <td>0.72</td>\n",
       "      <td>Ideal</td>\n",
       "      <td>D</td>\n",
       "      <td>SI1</td>\n",
       "      <td>60.8</td>\n",
       "      <td>57.0</td>\n",
       "      <td>2757</td>\n",
       "      <td>5.75</td>\n",
       "      <td>5.76</td>\n",
       "      <td>3.50</td>\n",
       "    </tr>\n",
       "    <tr>\n",
       "      <th>53936</th>\n",
       "      <td>53937</td>\n",
       "      <td>0.72</td>\n",
       "      <td>Good</td>\n",
       "      <td>D</td>\n",
       "      <td>SI1</td>\n",
       "      <td>63.1</td>\n",
       "      <td>55.0</td>\n",
       "      <td>2757</td>\n",
       "      <td>5.69</td>\n",
       "      <td>5.75</td>\n",
       "      <td>3.61</td>\n",
       "    </tr>\n",
       "    <tr>\n",
       "      <th>53937</th>\n",
       "      <td>53938</td>\n",
       "      <td>0.70</td>\n",
       "      <td>Very Good</td>\n",
       "      <td>D</td>\n",
       "      <td>SI1</td>\n",
       "      <td>62.8</td>\n",
       "      <td>60.0</td>\n",
       "      <td>2757</td>\n",
       "      <td>5.66</td>\n",
       "      <td>5.68</td>\n",
       "      <td>3.56</td>\n",
       "    </tr>\n",
       "    <tr>\n",
       "      <th>53938</th>\n",
       "      <td>53939</td>\n",
       "      <td>0.86</td>\n",
       "      <td>Premium</td>\n",
       "      <td>H</td>\n",
       "      <td>SI2</td>\n",
       "      <td>61.0</td>\n",
       "      <td>58.0</td>\n",
       "      <td>2757</td>\n",
       "      <td>6.15</td>\n",
       "      <td>6.12</td>\n",
       "      <td>3.74</td>\n",
       "    </tr>\n",
       "    <tr>\n",
       "      <th>53939</th>\n",
       "      <td>53940</td>\n",
       "      <td>0.75</td>\n",
       "      <td>Ideal</td>\n",
       "      <td>D</td>\n",
       "      <td>SI2</td>\n",
       "      <td>62.2</td>\n",
       "      <td>55.0</td>\n",
       "      <td>2757</td>\n",
       "      <td>5.83</td>\n",
       "      <td>5.87</td>\n",
       "      <td>3.64</td>\n",
       "    </tr>\n",
       "  </tbody>\n",
       "</table>\n",
       "<p>53940 rows × 11 columns</p>\n",
       "</div>"
      ],
      "text/plain": [
       "       Unnamed: 0  carat        cut color clarity  depth  table  price     x  \\\n",
       "0               1   0.23      Ideal     E     SI2   61.5   55.0    326  3.95   \n",
       "1               2   0.21    Premium     E     SI1   59.8   61.0    326  3.89   \n",
       "2               3   0.23       Good     E     VS1   56.9   65.0    327  4.05   \n",
       "3               4   0.29    Premium     I     VS2   62.4   58.0    334  4.20   \n",
       "4               5   0.31       Good     J     SI2   63.3   58.0    335  4.34   \n",
       "...           ...    ...        ...   ...     ...    ...    ...    ...   ...   \n",
       "53935       53936   0.72      Ideal     D     SI1   60.8   57.0   2757  5.75   \n",
       "53936       53937   0.72       Good     D     SI1   63.1   55.0   2757  5.69   \n",
       "53937       53938   0.70  Very Good     D     SI1   62.8   60.0   2757  5.66   \n",
       "53938       53939   0.86    Premium     H     SI2   61.0   58.0   2757  6.15   \n",
       "53939       53940   0.75      Ideal     D     SI2   62.2   55.0   2757  5.83   \n",
       "\n",
       "          y     z  \n",
       "0      3.98  2.43  \n",
       "1      3.84  2.31  \n",
       "2      4.07  2.31  \n",
       "3      4.23  2.63  \n",
       "4      4.35  2.75  \n",
       "...     ...   ...  \n",
       "53935  5.76  3.50  \n",
       "53936  5.75  3.61  \n",
       "53937  5.68  3.56  \n",
       "53938  6.12  3.74  \n",
       "53939  5.87  3.64  \n",
       "\n",
       "[53940 rows x 11 columns]"
      ]
     },
     "execution_count": 2,
     "metadata": {},
     "output_type": "execute_result"
    }
   ],
   "source": [
    "import pandas as pd\n",
    "diamond=pd.read_csv(r\"C:\\Users\\komar\\Downloads\\diamonds.csv\")\n",
    "diamond"
   ]
  },
  {
   "cell_type": "markdown",
   "metadata": {
    "id": "0gLkJdTUlFsD"
   },
   "source": [
    "###### 1. Write a Pandas program to find the number of rows and columns and data type of each column of diamonds Dataframe."
   ]
  },
  {
   "cell_type": "code",
   "execution_count": 3,
   "metadata": {
    "id": "9TQb1fhrHKGZ"
   },
   "outputs": [
    {
     "name": "stdout",
     "output_type": "stream",
     "text": [
      "Number of rows and columns:\n",
      "(53940, 11)\n",
      "Data type of each column:\n",
      "Unnamed: 0      int64\n",
      "carat         float64\n",
      "cut            object\n",
      "color          object\n",
      "clarity        object\n",
      "depth         float64\n",
      "table         float64\n",
      "price           int64\n",
      "x             float64\n",
      "y             float64\n",
      "z             float64\n",
      "dtype: object\n"
     ]
    }
   ],
   "source": [
    "### code here\n",
    "print(\"Number of rows and columns:\")\n",
    "print(diamond.shape)\n",
    "print(\"Data type of each column:\")\n",
    "print(diamond.dtypes)"
   ]
  },
  {
   "cell_type": "markdown",
   "metadata": {
    "id": "2hCsz2QLmdFK"
   },
   "source": [
    "##### 2. Write a Pandas program to summarize only 'object' columns of the diamonds Dataframe."
   ]
  },
  {
   "cell_type": "code",
   "execution_count": 4,
   "metadata": {
    "id": "yidnCTpKmcSV"
   },
   "outputs": [
    {
     "data": {
      "text/html": [
       "<div>\n",
       "<style scoped>\n",
       "    .dataframe tbody tr th:only-of-type {\n",
       "        vertical-align: middle;\n",
       "    }\n",
       "\n",
       "    .dataframe tbody tr th {\n",
       "        vertical-align: top;\n",
       "    }\n",
       "\n",
       "    .dataframe thead th {\n",
       "        text-align: right;\n",
       "    }\n",
       "</style>\n",
       "<table border=\"1\" class=\"dataframe\">\n",
       "  <thead>\n",
       "    <tr style=\"text-align: right;\">\n",
       "      <th></th>\n",
       "      <th>cut</th>\n",
       "      <th>color</th>\n",
       "      <th>clarity</th>\n",
       "    </tr>\n",
       "  </thead>\n",
       "  <tbody>\n",
       "    <tr>\n",
       "      <th>count</th>\n",
       "      <td>53940</td>\n",
       "      <td>53940</td>\n",
       "      <td>53940</td>\n",
       "    </tr>\n",
       "    <tr>\n",
       "      <th>unique</th>\n",
       "      <td>5</td>\n",
       "      <td>7</td>\n",
       "      <td>8</td>\n",
       "    </tr>\n",
       "    <tr>\n",
       "      <th>top</th>\n",
       "      <td>Ideal</td>\n",
       "      <td>G</td>\n",
       "      <td>SI1</td>\n",
       "    </tr>\n",
       "    <tr>\n",
       "      <th>freq</th>\n",
       "      <td>21551</td>\n",
       "      <td>11292</td>\n",
       "      <td>13065</td>\n",
       "    </tr>\n",
       "  </tbody>\n",
       "</table>\n",
       "</div>"
      ],
      "text/plain": [
       "          cut  color clarity\n",
       "count   53940  53940   53940\n",
       "unique      5      7       8\n",
       "top     Ideal      G     SI1\n",
       "freq    21551  11292   13065"
      ]
     },
     "execution_count": 4,
     "metadata": {},
     "output_type": "execute_result"
    }
   ],
   "source": [
    "### code here\n",
    "diamond.describe(include=['object'])"
   ]
  },
  {
   "cell_type": "markdown",
   "metadata": {
    "id": "MSQBTbT4mmOT"
   },
   "source": [
    "###### 3. Write a Pandas program to remove the second column of the diamonds Dataframe. (don't use original dataset)"
   ]
  },
  {
   "cell_type": "code",
   "execution_count": 5,
   "metadata": {
    "id": "-KnxM5wZmcU9"
   },
   "outputs": [
    {
     "name": "stdout",
     "output_type": "stream",
     "text": [
      "Original Dataframe:\n",
      "   Unnamed: 0  carat      cut color clarity  depth  table  price     x     y  \\\n",
      "0           1   0.23    Ideal     E     SI2   61.5   55.0    326  3.95  3.98   \n",
      "1           2   0.21  Premium     E     SI1   59.8   61.0    326  3.89  3.84   \n",
      "2           3   0.23     Good     E     VS1   56.9   65.0    327  4.05  4.07   \n",
      "3           4   0.29  Premium     I     VS2   62.4   58.0    334  4.20  4.23   \n",
      "4           5   0.31     Good     J     SI2   63.3   58.0    335  4.34  4.35   \n",
      "\n",
      "      z  \n",
      "0  2.43  \n",
      "1  2.31  \n",
      "2  2.31  \n",
      "3  2.63  \n",
      "4  2.75  \n",
      "Remove the second column of the said Dataframe:\n",
      "   Unnamed: 0  carat color clarity  depth  table  price     x     y     z\n",
      "0           1   0.23     E     SI2   61.5   55.0    326  3.95  3.98  2.43\n",
      "1           2   0.21     E     SI1   59.8   61.0    326  3.89  3.84  2.31\n",
      "2           3   0.23     E     VS1   56.9   65.0    327  4.05  4.07  2.31\n",
      "3           4   0.29     I     VS2   62.4   58.0    334  4.20  4.23  2.63\n",
      "4           5   0.31     J     SI2   63.3   58.0    335  4.34  4.35  2.75\n"
     ]
    }
   ],
   "source": [
    "### code here\n",
    "import pandas as pd\n",
    "diamond = pd.read_csv(r\"C:\\Users\\komar\\Downloads\\diamonds.csv\") \n",
    "print(\"Original Dataframe:\")\n",
    "print(diamond.head())\n",
    "print(\"Remove the second column of the said Dataframe:\")\n",
    "diamond.drop('cut',axis=1,inplace=True)\n",
    "print(diamond.head())"
   ]
  },
  {
   "cell_type": "markdown",
   "metadata": {
    "id": "ueDcExq4m76F"
   },
   "source": [
    "###### 4. Write a Pandas program to remove multiple rows at once (axis=0 refers to rows) from diamonds dataframe. (dont use original dataset)"
   ]
  },
  {
   "cell_type": "code",
   "execution_count": 6,
   "metadata": {
    "id": "R5UWSmb8mcXd"
   },
   "outputs": [
    {
     "data": {
      "text/html": [
       "<div>\n",
       "<style scoped>\n",
       "    .dataframe tbody tr th:only-of-type {\n",
       "        vertical-align: middle;\n",
       "    }\n",
       "\n",
       "    .dataframe tbody tr th {\n",
       "        vertical-align: top;\n",
       "    }\n",
       "\n",
       "    .dataframe thead th {\n",
       "        text-align: right;\n",
       "    }\n",
       "</style>\n",
       "<table border=\"1\" class=\"dataframe\">\n",
       "  <thead>\n",
       "    <tr style=\"text-align: right;\">\n",
       "      <th></th>\n",
       "      <th>Unnamed: 0</th>\n",
       "      <th>carat</th>\n",
       "      <th>cut</th>\n",
       "      <th>color</th>\n",
       "      <th>clarity</th>\n",
       "      <th>depth</th>\n",
       "      <th>table</th>\n",
       "      <th>price</th>\n",
       "      <th>x</th>\n",
       "      <th>y</th>\n",
       "      <th>z</th>\n",
       "    </tr>\n",
       "  </thead>\n",
       "  <tbody>\n",
       "    <tr>\n",
       "      <th>0</th>\n",
       "      <td>1</td>\n",
       "      <td>0.23</td>\n",
       "      <td>Ideal</td>\n",
       "      <td>E</td>\n",
       "      <td>SI2</td>\n",
       "      <td>61.5</td>\n",
       "      <td>55.0</td>\n",
       "      <td>326</td>\n",
       "      <td>3.95</td>\n",
       "      <td>3.98</td>\n",
       "      <td>2.43</td>\n",
       "    </tr>\n",
       "    <tr>\n",
       "      <th>1</th>\n",
       "      <td>2</td>\n",
       "      <td>0.21</td>\n",
       "      <td>Premium</td>\n",
       "      <td>E</td>\n",
       "      <td>SI1</td>\n",
       "      <td>59.8</td>\n",
       "      <td>61.0</td>\n",
       "      <td>326</td>\n",
       "      <td>3.89</td>\n",
       "      <td>3.84</td>\n",
       "      <td>2.31</td>\n",
       "    </tr>\n",
       "    <tr>\n",
       "      <th>3</th>\n",
       "      <td>4</td>\n",
       "      <td>0.29</td>\n",
       "      <td>Premium</td>\n",
       "      <td>I</td>\n",
       "      <td>VS2</td>\n",
       "      <td>62.4</td>\n",
       "      <td>58.0</td>\n",
       "      <td>334</td>\n",
       "      <td>4.20</td>\n",
       "      <td>4.23</td>\n",
       "      <td>2.63</td>\n",
       "    </tr>\n",
       "    <tr>\n",
       "      <th>6</th>\n",
       "      <td>7</td>\n",
       "      <td>0.24</td>\n",
       "      <td>Very Good</td>\n",
       "      <td>I</td>\n",
       "      <td>VVS1</td>\n",
       "      <td>62.3</td>\n",
       "      <td>57.0</td>\n",
       "      <td>336</td>\n",
       "      <td>3.95</td>\n",
       "      <td>3.98</td>\n",
       "      <td>2.47</td>\n",
       "    </tr>\n",
       "    <tr>\n",
       "      <th>7</th>\n",
       "      <td>8</td>\n",
       "      <td>0.26</td>\n",
       "      <td>Very Good</td>\n",
       "      <td>H</td>\n",
       "      <td>SI1</td>\n",
       "      <td>61.9</td>\n",
       "      <td>55.0</td>\n",
       "      <td>337</td>\n",
       "      <td>4.07</td>\n",
       "      <td>4.11</td>\n",
       "      <td>2.53</td>\n",
       "    </tr>\n",
       "  </tbody>\n",
       "</table>\n",
       "</div>"
      ],
      "text/plain": [
       "   Unnamed: 0  carat        cut color clarity  depth  table  price     x  \\\n",
       "0           1   0.23      Ideal     E     SI2   61.5   55.0    326  3.95   \n",
       "1           2   0.21    Premium     E     SI1   59.8   61.0    326  3.89   \n",
       "3           4   0.29    Premium     I     VS2   62.4   58.0    334  4.20   \n",
       "6           7   0.24  Very Good     I    VVS1   62.3   57.0    336  3.95   \n",
       "7           8   0.26  Very Good     H     SI1   61.9   55.0    337  4.07   \n",
       "\n",
       "      y     z  \n",
       "0  3.98  2.43  \n",
       "1  3.84  2.31  \n",
       "3  4.23  2.63  \n",
       "6  3.98  2.47  \n",
       "7  4.11  2.53  "
      ]
     },
     "execution_count": 6,
     "metadata": {},
     "output_type": "execute_result"
    }
   ],
   "source": [
    "### code here\n",
    "import pandas as pd\n",
    "diamond=pd.read_csv(r\"C:\\Users\\komar\\Downloads\\diamonds.csv\") \n",
    "df=diamond.drop([2, 4, 5], axis=0, inplace=True)\n",
    "diamond.head()"
   ]
  },
  {
   "cell_type": "markdown",
   "metadata": {
    "id": "1ivZW6tqnRKL"
   },
   "source": [
    "###### 5. Write a Pandas program to sort the 'cut' Series in ascending order (returns a Series) of diamonds Dataframe. "
   ]
  },
  {
   "cell_type": "code",
   "execution_count": 7,
   "metadata": {
    "id": "KUgjKfuAmcZr"
   },
   "outputs": [
    {
     "data": {
      "text/plain": [
       "2583          Fair\n",
       "8200          Fair\n",
       "47802         Fair\n",
       "51026         Fair\n",
       "8197          Fair\n",
       "           ...    \n",
       "16893    Very Good\n",
       "43101    Very Good\n",
       "7402     Very Good\n",
       "16898    Very Good\n",
       "21164    Very Good\n",
       "Name: cut, Length: 53937, dtype: object"
      ]
     },
     "execution_count": 7,
     "metadata": {},
     "output_type": "execute_result"
    }
   ],
   "source": [
    "### code here\n",
    "result=diamond.cut.sort_values(ascending=True)\n",
    "result"
   ]
  },
  {
   "cell_type": "markdown",
   "metadata": {
    "id": "BCvcHa28nl7D"
   },
   "source": [
    "###### 6. Write a Pandas program to sort the entire diamonds DataFrame by the 'carat' Series in ascending and descending order."
   ]
  },
  {
   "cell_type": "code",
   "execution_count": 8,
   "metadata": {
    "id": "GwfuqL1MmccL"
   },
   "outputs": [
    {
     "name": "stdout",
     "output_type": "stream",
     "text": [
      "       Unnamed: 0  carat        cut color clarity  depth  table  price      x  \\\n",
      "31593       31594   0.20    Premium     E     VS2   61.1   59.0    367   3.81   \n",
      "31598       31599   0.20  Very Good     E     VS2   63.4   59.0    367   3.74   \n",
      "14             15   0.20    Premium     E     SI2   60.2   62.0    345   3.79   \n",
      "31600       31601   0.20    Premium     D     VS2   62.3   60.0    367   3.73   \n",
      "31599       31600   0.20      Ideal     E     VS2   62.2   57.0    367   3.76   \n",
      "...           ...    ...        ...   ...     ...    ...    ...    ...    ...   \n",
      "25998       25999   4.01    Premium     I      I1   61.0   61.0  15223  10.14   \n",
      "25999       26000   4.01    Premium     J      I1   62.5   62.0  15223  10.02   \n",
      "27130       27131   4.13       Fair     H      I1   64.8   61.0  17329  10.00   \n",
      "27630       27631   4.50       Fair     J      I1   65.8   58.0  18531  10.23   \n",
      "27415       27416   5.01       Fair     J      I1   65.5   59.0  18018  10.74   \n",
      "\n",
      "           y     z  \n",
      "31593   3.78  2.32  \n",
      "31598   3.71  2.36  \n",
      "14      3.75  2.27  \n",
      "31600   3.68  2.31  \n",
      "31599   3.73  2.33  \n",
      "...      ...   ...  \n",
      "25998  10.10  6.17  \n",
      "25999   9.94  6.24  \n",
      "27130   9.85  6.43  \n",
      "27630  10.16  6.72  \n",
      "27415  10.54  6.98  \n",
      "\n",
      "[53937 rows x 11 columns]\n",
      "       Unnamed: 0  carat      cut color clarity  depth  table  price      x  \\\n",
      "27415       27416   5.01     Fair     J      I1   65.5   59.0  18018  10.74   \n",
      "27630       27631   4.50     Fair     J      I1   65.8   58.0  18531  10.23   \n",
      "27130       27131   4.13     Fair     H      I1   64.8   61.0  17329  10.00   \n",
      "25999       26000   4.01  Premium     J      I1   62.5   62.0  15223  10.02   \n",
      "25998       25999   4.01  Premium     I      I1   61.0   61.0  15223  10.14   \n",
      "...           ...    ...      ...   ...     ...    ...    ...    ...    ...   \n",
      "31594       31595   0.20  Premium     E     VS2   59.7   62.0    367   3.84   \n",
      "31593       31594   0.20  Premium     E     VS2   61.1   59.0    367   3.81   \n",
      "31592       31593   0.20  Premium     E     VS2   59.0   60.0    367   3.81   \n",
      "31591       31592   0.20  Premium     E     VS2   59.8   62.0    367   3.79   \n",
      "31600       31601   0.20  Premium     D     VS2   62.3   60.0    367   3.73   \n",
      "\n",
      "           y     z  \n",
      "27415  10.54  6.98  \n",
      "27630  10.16  6.72  \n",
      "27130   9.85  6.43  \n",
      "25999   9.94  6.24  \n",
      "25998  10.10  6.17  \n",
      "...      ...   ...  \n",
      "31594   3.80  2.28  \n",
      "31593   3.78  2.32  \n",
      "31592   3.78  2.24  \n",
      "31591   3.77  2.26  \n",
      "31600   3.68  2.31  \n",
      "\n",
      "[53937 rows x 11 columns]\n"
     ]
    }
   ],
   "source": [
    "### code here\n",
    "df2=diamond.sort_values('carat')\n",
    "print(df2)\n",
    "df3=diamond.sort_values(by=['carat'],ascending=False)\n",
    "print(df3)"
   ]
  },
  {
   "cell_type": "markdown",
   "metadata": {
    "id": "cSpCOh8coK6r"
   },
   "source": [
    "###### 7. Write a Pandas program to filter the DataFrame rows to only show carat weight at least 0.3."
   ]
  },
  {
   "cell_type": "code",
   "execution_count": 9,
   "metadata": {
    "id": "AgdZqV1Pmcey"
   },
   "outputs": [
    {
     "data": {
      "text/html": [
       "<div>\n",
       "<style scoped>\n",
       "    .dataframe tbody tr th:only-of-type {\n",
       "        vertical-align: middle;\n",
       "    }\n",
       "\n",
       "    .dataframe tbody tr th {\n",
       "        vertical-align: top;\n",
       "    }\n",
       "\n",
       "    .dataframe thead th {\n",
       "        text-align: right;\n",
       "    }\n",
       "</style>\n",
       "<table border=\"1\" class=\"dataframe\">\n",
       "  <thead>\n",
       "    <tr style=\"text-align: right;\">\n",
       "      <th></th>\n",
       "      <th>Unnamed: 0</th>\n",
       "      <th>carat</th>\n",
       "      <th>cut</th>\n",
       "      <th>color</th>\n",
       "      <th>clarity</th>\n",
       "      <th>depth</th>\n",
       "      <th>table</th>\n",
       "      <th>price</th>\n",
       "      <th>x</th>\n",
       "      <th>y</th>\n",
       "      <th>z</th>\n",
       "    </tr>\n",
       "  </thead>\n",
       "  <tbody>\n",
       "    <tr>\n",
       "      <th>10</th>\n",
       "      <td>11</td>\n",
       "      <td>0.3</td>\n",
       "      <td>Good</td>\n",
       "      <td>J</td>\n",
       "      <td>SI1</td>\n",
       "      <td>64.0</td>\n",
       "      <td>55.0</td>\n",
       "      <td>339</td>\n",
       "      <td>4.25</td>\n",
       "      <td>4.28</td>\n",
       "      <td>2.73</td>\n",
       "    </tr>\n",
       "    <tr>\n",
       "      <th>16</th>\n",
       "      <td>17</td>\n",
       "      <td>0.3</td>\n",
       "      <td>Ideal</td>\n",
       "      <td>I</td>\n",
       "      <td>SI2</td>\n",
       "      <td>62.0</td>\n",
       "      <td>54.0</td>\n",
       "      <td>348</td>\n",
       "      <td>4.31</td>\n",
       "      <td>4.34</td>\n",
       "      <td>2.68</td>\n",
       "    </tr>\n",
       "    <tr>\n",
       "      <th>17</th>\n",
       "      <td>18</td>\n",
       "      <td>0.3</td>\n",
       "      <td>Good</td>\n",
       "      <td>J</td>\n",
       "      <td>SI1</td>\n",
       "      <td>63.4</td>\n",
       "      <td>54.0</td>\n",
       "      <td>351</td>\n",
       "      <td>4.23</td>\n",
       "      <td>4.29</td>\n",
       "      <td>2.70</td>\n",
       "    </tr>\n",
       "    <tr>\n",
       "      <th>18</th>\n",
       "      <td>19</td>\n",
       "      <td>0.3</td>\n",
       "      <td>Good</td>\n",
       "      <td>J</td>\n",
       "      <td>SI1</td>\n",
       "      <td>63.8</td>\n",
       "      <td>56.0</td>\n",
       "      <td>351</td>\n",
       "      <td>4.23</td>\n",
       "      <td>4.26</td>\n",
       "      <td>2.71</td>\n",
       "    </tr>\n",
       "    <tr>\n",
       "      <th>19</th>\n",
       "      <td>20</td>\n",
       "      <td>0.3</td>\n",
       "      <td>Very Good</td>\n",
       "      <td>J</td>\n",
       "      <td>SI1</td>\n",
       "      <td>62.7</td>\n",
       "      <td>59.0</td>\n",
       "      <td>351</td>\n",
       "      <td>4.21</td>\n",
       "      <td>4.27</td>\n",
       "      <td>2.66</td>\n",
       "    </tr>\n",
       "    <tr>\n",
       "      <th>...</th>\n",
       "      <td>...</td>\n",
       "      <td>...</td>\n",
       "      <td>...</td>\n",
       "      <td>...</td>\n",
       "      <td>...</td>\n",
       "      <td>...</td>\n",
       "      <td>...</td>\n",
       "      <td>...</td>\n",
       "      <td>...</td>\n",
       "      <td>...</td>\n",
       "      <td>...</td>\n",
       "    </tr>\n",
       "    <tr>\n",
       "      <th>53635</th>\n",
       "      <td>53636</td>\n",
       "      <td>0.3</td>\n",
       "      <td>Ideal</td>\n",
       "      <td>I</td>\n",
       "      <td>VVS1</td>\n",
       "      <td>62.1</td>\n",
       "      <td>56.0</td>\n",
       "      <td>552</td>\n",
       "      <td>4.30</td>\n",
       "      <td>4.33</td>\n",
       "      <td>2.68</td>\n",
       "    </tr>\n",
       "    <tr>\n",
       "      <th>53636</th>\n",
       "      <td>53637</td>\n",
       "      <td>0.3</td>\n",
       "      <td>Ideal</td>\n",
       "      <td>D</td>\n",
       "      <td>SI1</td>\n",
       "      <td>61.6</td>\n",
       "      <td>57.0</td>\n",
       "      <td>552</td>\n",
       "      <td>4.28</td>\n",
       "      <td>4.32</td>\n",
       "      <td>2.65</td>\n",
       "    </tr>\n",
       "    <tr>\n",
       "      <th>53637</th>\n",
       "      <td>53638</td>\n",
       "      <td>0.3</td>\n",
       "      <td>Very Good</td>\n",
       "      <td>D</td>\n",
       "      <td>SI1</td>\n",
       "      <td>62.5</td>\n",
       "      <td>57.0</td>\n",
       "      <td>552</td>\n",
       "      <td>4.26</td>\n",
       "      <td>4.28</td>\n",
       "      <td>2.67</td>\n",
       "    </tr>\n",
       "    <tr>\n",
       "      <th>53638</th>\n",
       "      <td>53639</td>\n",
       "      <td>0.3</td>\n",
       "      <td>Ideal</td>\n",
       "      <td>D</td>\n",
       "      <td>SI1</td>\n",
       "      <td>61.0</td>\n",
       "      <td>57.0</td>\n",
       "      <td>552</td>\n",
       "      <td>4.29</td>\n",
       "      <td>4.33</td>\n",
       "      <td>2.63</td>\n",
       "    </tr>\n",
       "    <tr>\n",
       "      <th>53639</th>\n",
       "      <td>53640</td>\n",
       "      <td>0.3</td>\n",
       "      <td>Ideal</td>\n",
       "      <td>D</td>\n",
       "      <td>SI1</td>\n",
       "      <td>61.0</td>\n",
       "      <td>56.0</td>\n",
       "      <td>552</td>\n",
       "      <td>4.35</td>\n",
       "      <td>4.37</td>\n",
       "      <td>2.66</td>\n",
       "    </tr>\n",
       "  </tbody>\n",
       "</table>\n",
       "<p>2604 rows × 11 columns</p>\n",
       "</div>"
      ],
      "text/plain": [
       "       Unnamed: 0  carat        cut color clarity  depth  table  price     x  \\\n",
       "10             11    0.3       Good     J     SI1   64.0   55.0    339  4.25   \n",
       "16             17    0.3      Ideal     I     SI2   62.0   54.0    348  4.31   \n",
       "17             18    0.3       Good     J     SI1   63.4   54.0    351  4.23   \n",
       "18             19    0.3       Good     J     SI1   63.8   56.0    351  4.23   \n",
       "19             20    0.3  Very Good     J     SI1   62.7   59.0    351  4.21   \n",
       "...           ...    ...        ...   ...     ...    ...    ...    ...   ...   \n",
       "53635       53636    0.3      Ideal     I    VVS1   62.1   56.0    552  4.30   \n",
       "53636       53637    0.3      Ideal     D     SI1   61.6   57.0    552  4.28   \n",
       "53637       53638    0.3  Very Good     D     SI1   62.5   57.0    552  4.26   \n",
       "53638       53639    0.3      Ideal     D     SI1   61.0   57.0    552  4.29   \n",
       "53639       53640    0.3      Ideal     D     SI1   61.0   56.0    552  4.35   \n",
       "\n",
       "          y     z  \n",
       "10     4.28  2.73  \n",
       "16     4.34  2.68  \n",
       "17     4.29  2.70  \n",
       "18     4.26  2.71  \n",
       "19     4.27  2.66  \n",
       "...     ...   ...  \n",
       "53635  4.33  2.68  \n",
       "53636  4.32  2.65  \n",
       "53637  4.28  2.67  \n",
       "53638  4.33  2.63  \n",
       "53639  4.37  2.66  \n",
       "\n",
       "[2604 rows x 11 columns]"
      ]
     },
     "execution_count": 9,
     "metadata": {},
     "output_type": "execute_result"
    }
   ],
   "source": [
    "#### code here\n",
    "diamond[diamond.carat==0.3]"
   ]
  },
  {
   "cell_type": "markdown",
   "metadata": {
    "id": "4FpU9oyLoXJs"
   },
   "source": [
    "###### 8.  Write a Pandas program to find the details of the diamonds where length>5, width>5 and depth>5."
   ]
  },
  {
   "cell_type": "code",
   "execution_count": 10,
   "metadata": {
    "id": "XNKHLmjzmchr"
   },
   "outputs": [
    {
     "data": {
      "text/html": [
       "<div>\n",
       "<style scoped>\n",
       "    .dataframe tbody tr th:only-of-type {\n",
       "        vertical-align: middle;\n",
       "    }\n",
       "\n",
       "    .dataframe tbody tr th {\n",
       "        vertical-align: top;\n",
       "    }\n",
       "\n",
       "    .dataframe thead th {\n",
       "        text-align: right;\n",
       "    }\n",
       "</style>\n",
       "<table border=\"1\" class=\"dataframe\">\n",
       "  <thead>\n",
       "    <tr style=\"text-align: right;\">\n",
       "      <th></th>\n",
       "      <th>Unnamed: 0</th>\n",
       "      <th>carat</th>\n",
       "      <th>cut</th>\n",
       "      <th>color</th>\n",
       "      <th>clarity</th>\n",
       "      <th>depth</th>\n",
       "      <th>table</th>\n",
       "      <th>price</th>\n",
       "      <th>x</th>\n",
       "      <th>y</th>\n",
       "      <th>z</th>\n",
       "    </tr>\n",
       "  </thead>\n",
       "  <tbody>\n",
       "    <tr>\n",
       "      <th>11778</th>\n",
       "      <td>11779</td>\n",
       "      <td>1.83</td>\n",
       "      <td>Fair</td>\n",
       "      <td>J</td>\n",
       "      <td>I1</td>\n",
       "      <td>70.0</td>\n",
       "      <td>58.0</td>\n",
       "      <td>5083</td>\n",
       "      <td>7.34</td>\n",
       "      <td>7.28</td>\n",
       "      <td>5.12</td>\n",
       "    </tr>\n",
       "    <tr>\n",
       "      <th>13002</th>\n",
       "      <td>13003</td>\n",
       "      <td>2.14</td>\n",
       "      <td>Fair</td>\n",
       "      <td>J</td>\n",
       "      <td>I1</td>\n",
       "      <td>69.4</td>\n",
       "      <td>57.0</td>\n",
       "      <td>5405</td>\n",
       "      <td>7.74</td>\n",
       "      <td>7.70</td>\n",
       "      <td>5.36</td>\n",
       "    </tr>\n",
       "    <tr>\n",
       "      <th>13118</th>\n",
       "      <td>13119</td>\n",
       "      <td>2.15</td>\n",
       "      <td>Fair</td>\n",
       "      <td>J</td>\n",
       "      <td>I1</td>\n",
       "      <td>65.5</td>\n",
       "      <td>57.0</td>\n",
       "      <td>5430</td>\n",
       "      <td>8.01</td>\n",
       "      <td>7.95</td>\n",
       "      <td>5.23</td>\n",
       "    </tr>\n",
       "    <tr>\n",
       "      <th>13562</th>\n",
       "      <td>13563</td>\n",
       "      <td>1.96</td>\n",
       "      <td>Fair</td>\n",
       "      <td>F</td>\n",
       "      <td>I1</td>\n",
       "      <td>66.6</td>\n",
       "      <td>60.0</td>\n",
       "      <td>5554</td>\n",
       "      <td>7.59</td>\n",
       "      <td>7.56</td>\n",
       "      <td>5.04</td>\n",
       "    </tr>\n",
       "    <tr>\n",
       "      <th>13757</th>\n",
       "      <td>13758</td>\n",
       "      <td>2.22</td>\n",
       "      <td>Fair</td>\n",
       "      <td>J</td>\n",
       "      <td>I1</td>\n",
       "      <td>66.7</td>\n",
       "      <td>56.0</td>\n",
       "      <td>5607</td>\n",
       "      <td>8.04</td>\n",
       "      <td>8.02</td>\n",
       "      <td>5.36</td>\n",
       "    </tr>\n",
       "    <tr>\n",
       "      <th>...</th>\n",
       "      <td>...</td>\n",
       "      <td>...</td>\n",
       "      <td>...</td>\n",
       "      <td>...</td>\n",
       "      <td>...</td>\n",
       "      <td>...</td>\n",
       "      <td>...</td>\n",
       "      <td>...</td>\n",
       "      <td>...</td>\n",
       "      <td>...</td>\n",
       "      <td>...</td>\n",
       "    </tr>\n",
       "    <tr>\n",
       "      <th>27748</th>\n",
       "      <td>27749</td>\n",
       "      <td>2.00</td>\n",
       "      <td>Very Good</td>\n",
       "      <td>G</td>\n",
       "      <td>SI1</td>\n",
       "      <td>63.5</td>\n",
       "      <td>56.0</td>\n",
       "      <td>18818</td>\n",
       "      <td>7.90</td>\n",
       "      <td>7.97</td>\n",
       "      <td>5.04</td>\n",
       "    </tr>\n",
       "    <tr>\n",
       "      <th>27749</th>\n",
       "      <td>27750</td>\n",
       "      <td>2.29</td>\n",
       "      <td>Premium</td>\n",
       "      <td>I</td>\n",
       "      <td>VS2</td>\n",
       "      <td>60.8</td>\n",
       "      <td>60.0</td>\n",
       "      <td>18823</td>\n",
       "      <td>8.50</td>\n",
       "      <td>8.47</td>\n",
       "      <td>5.16</td>\n",
       "    </tr>\n",
       "    <tr>\n",
       "      <th>48410</th>\n",
       "      <td>48411</td>\n",
       "      <td>0.51</td>\n",
       "      <td>Very Good</td>\n",
       "      <td>E</td>\n",
       "      <td>VS1</td>\n",
       "      <td>61.8</td>\n",
       "      <td>54.7</td>\n",
       "      <td>1970</td>\n",
       "      <td>5.12</td>\n",
       "      <td>5.15</td>\n",
       "      <td>31.80</td>\n",
       "    </tr>\n",
       "    <tr>\n",
       "      <th>49189</th>\n",
       "      <td>49190</td>\n",
       "      <td>0.51</td>\n",
       "      <td>Ideal</td>\n",
       "      <td>E</td>\n",
       "      <td>VS1</td>\n",
       "      <td>61.8</td>\n",
       "      <td>55.0</td>\n",
       "      <td>2075</td>\n",
       "      <td>5.15</td>\n",
       "      <td>31.80</td>\n",
       "      <td>5.12</td>\n",
       "    </tr>\n",
       "    <tr>\n",
       "      <th>49905</th>\n",
       "      <td>49906</td>\n",
       "      <td>0.50</td>\n",
       "      <td>Very Good</td>\n",
       "      <td>G</td>\n",
       "      <td>VVS1</td>\n",
       "      <td>63.7</td>\n",
       "      <td>58.0</td>\n",
       "      <td>2180</td>\n",
       "      <td>5.01</td>\n",
       "      <td>5.04</td>\n",
       "      <td>5.06</td>\n",
       "    </tr>\n",
       "  </tbody>\n",
       "</table>\n",
       "<p>1457 rows × 11 columns</p>\n",
       "</div>"
      ],
      "text/plain": [
       "       Unnamed: 0  carat        cut color clarity  depth  table  price     x  \\\n",
       "11778       11779   1.83       Fair     J      I1   70.0   58.0   5083  7.34   \n",
       "13002       13003   2.14       Fair     J      I1   69.4   57.0   5405  7.74   \n",
       "13118       13119   2.15       Fair     J      I1   65.5   57.0   5430  8.01   \n",
       "13562       13563   1.96       Fair     F      I1   66.6   60.0   5554  7.59   \n",
       "13757       13758   2.22       Fair     J      I1   66.7   56.0   5607  8.04   \n",
       "...           ...    ...        ...   ...     ...    ...    ...    ...   ...   \n",
       "27748       27749   2.00  Very Good     G     SI1   63.5   56.0  18818  7.90   \n",
       "27749       27750   2.29    Premium     I     VS2   60.8   60.0  18823  8.50   \n",
       "48410       48411   0.51  Very Good     E     VS1   61.8   54.7   1970  5.12   \n",
       "49189       49190   0.51      Ideal     E     VS1   61.8   55.0   2075  5.15   \n",
       "49905       49906   0.50  Very Good     G    VVS1   63.7   58.0   2180  5.01   \n",
       "\n",
       "           y      z  \n",
       "11778   7.28   5.12  \n",
       "13002   7.70   5.36  \n",
       "13118   7.95   5.23  \n",
       "13562   7.56   5.04  \n",
       "13757   8.02   5.36  \n",
       "...      ...    ...  \n",
       "27748   7.97   5.04  \n",
       "27749   8.47   5.16  \n",
       "48410   5.15  31.80  \n",
       "49189  31.80   5.12  \n",
       "49905   5.04   5.06  \n",
       "\n",
       "[1457 rows x 11 columns]"
      ]
     },
     "execution_count": 10,
     "metadata": {},
     "output_type": "execute_result"
    }
   ],
   "source": [
    "### code here \n",
    "diamond[(diamond.x>5) & (diamond.y>5) & (diamond.z>5)]"
   ]
  },
  {
   "cell_type": "markdown",
   "metadata": {
    "id": "y351ifPOp772"
   },
   "source": [
    "###### 9. Write a Pandas program to calculate the mean of each row of diamonds DataFrame."
   ]
  },
  {
   "cell_type": "code",
   "execution_count": 11,
   "metadata": {
    "id": "cmcg9Jy0oazK"
   },
   "outputs": [
    {
     "name": "stderr",
     "output_type": "stream",
     "text": [
      "C:\\Users\\komar\\AppData\\Local\\Temp\\ipykernel_23608\\1996012240.py:2: FutureWarning: Dropping of nuisance columns in DataFrame reductions (with 'numeric_only=None') is deprecated; in a future version this will raise TypeError.  Select only valid columns before calling the reduction.\n",
      "  df5=diamond.mean(axis=1)\n"
     ]
    },
    {
     "data": {
      "text/plain": [
       "0    56.76125\n",
       "1    57.38125\n",
       "3    58.71875\n",
       "6    59.11750\n",
       "7    59.10875\n",
       "dtype: float64"
      ]
     },
     "execution_count": 11,
     "metadata": {},
     "output_type": "execute_result"
    }
   ],
   "source": [
    "### code here\n",
    "df5=diamond.mean(axis=1)\n",
    "df5.head()"
   ]
  },
  {
   "cell_type": "markdown",
   "metadata": {
    "id": "Gp_gDhj_qXm9"
   },
   "source": [
    "###### 10. Write a Pandas program to calculate the mean of price for each cut  and find maximum top 3 of diamonds DataFrame. "
   ]
  },
  {
   "cell_type": "code",
   "execution_count": 12,
   "metadata": {
    "id": "0Ka1Xpaioa1s"
   },
   "outputs": [
    {
     "name": "stdout",
     "output_type": "stream",
     "text": [
      "cut\n",
      "Fair         4358.757764\n",
      "Good         3930.331770\n",
      "Ideal        3457.541970\n",
      "Premium      4584.257704\n",
      "Very Good    3982.061667\n",
      "Name: price, dtype: float64\n",
      "[18823 18818 18806]\n"
     ]
    }
   ],
   "source": [
    "#### code here\n",
    "print(diamond.groupby('cut').price.mean())\n",
    "print(diamond.sort_values(by='price',ascending=False)[:3]['price'].values)"
   ]
  },
  {
   "cell_type": "markdown",
   "metadata": {
    "id": "puSNBUFWqp6c"
   },
   "source": [
    "##### 11. Write a Pandas program to calculate count, minimum, maximum price for each cut of diamonds DataFrame."
   ]
  },
  {
   "cell_type": "code",
   "execution_count": 13,
   "metadata": {
    "id": "6lviyQH7oa4W"
   },
   "outputs": [
    {
     "data": {
      "text/html": [
       "<div>\n",
       "<style scoped>\n",
       "    .dataframe tbody tr th:only-of-type {\n",
       "        vertical-align: middle;\n",
       "    }\n",
       "\n",
       "    .dataframe tbody tr th {\n",
       "        vertical-align: top;\n",
       "    }\n",
       "\n",
       "    .dataframe thead th {\n",
       "        text-align: right;\n",
       "    }\n",
       "</style>\n",
       "<table border=\"1\" class=\"dataframe\">\n",
       "  <thead>\n",
       "    <tr style=\"text-align: right;\">\n",
       "      <th></th>\n",
       "      <th>count</th>\n",
       "      <th>min</th>\n",
       "      <th>max</th>\n",
       "    </tr>\n",
       "    <tr>\n",
       "      <th>cut</th>\n",
       "      <th></th>\n",
       "      <th></th>\n",
       "      <th></th>\n",
       "    </tr>\n",
       "  </thead>\n",
       "  <tbody>\n",
       "    <tr>\n",
       "      <th>Fair</th>\n",
       "      <td>1610</td>\n",
       "      <td>337</td>\n",
       "      <td>18574</td>\n",
       "    </tr>\n",
       "    <tr>\n",
       "      <th>Good</th>\n",
       "      <td>4904</td>\n",
       "      <td>339</td>\n",
       "      <td>18788</td>\n",
       "    </tr>\n",
       "    <tr>\n",
       "      <th>Ideal</th>\n",
       "      <td>21551</td>\n",
       "      <td>326</td>\n",
       "      <td>18806</td>\n",
       "    </tr>\n",
       "    <tr>\n",
       "      <th>Premium</th>\n",
       "      <td>13791</td>\n",
       "      <td>326</td>\n",
       "      <td>18823</td>\n",
       "    </tr>\n",
       "    <tr>\n",
       "      <th>Very Good</th>\n",
       "      <td>12081</td>\n",
       "      <td>336</td>\n",
       "      <td>18818</td>\n",
       "    </tr>\n",
       "  </tbody>\n",
       "</table>\n",
       "</div>"
      ],
      "text/plain": [
       "           count  min    max\n",
       "cut                         \n",
       "Fair        1610  337  18574\n",
       "Good        4904  339  18788\n",
       "Ideal      21551  326  18806\n",
       "Premium    13791  326  18823\n",
       "Very Good  12081  336  18818"
      ]
     },
     "execution_count": 13,
     "metadata": {},
     "output_type": "execute_result"
    }
   ],
   "source": [
    "### code here\n",
    "diamond.groupby('cut').price.agg(['count', 'min', 'max'])"
   ]
  },
  {
   "cell_type": "markdown",
   "metadata": {
    "id": "4yylPeGNq0DV"
   },
   "source": [
    "###### 12. Write a Pandas program to display and count the unique values in cut series of diamonds DataFrame."
   ]
  },
  {
   "cell_type": "code",
   "execution_count": 24,
   "metadata": {
    "id": "AZIo7d4zoa9c"
   },
   "outputs": [
    {
     "name": "stdout",
     "output_type": "stream",
     "text": [
      "['Ideal' 'Premium' 'Very Good' 'Fair' 'Good']\n",
      "5\n"
     ]
    }
   ],
   "source": [
    "### code here\n",
    "\n",
    "print(diamond.cut.unique())\n",
    "print(diamond.cut.nunique())"
   ]
  },
  {
   "cell_type": "markdown",
   "metadata": {
    "id": "Uc9HsMNOsZ-R"
   },
   "source": [
    "######13.  Write a Pandas program to count the number of missing values in each Series of diamonds DataFrame."
   ]
  },
  {
   "cell_type": "code",
   "execution_count": 15,
   "metadata": {
    "id": "9IQdRGXEobAE"
   },
   "outputs": [
    {
     "data": {
      "text/plain": [
       "Unnamed: 0    0\n",
       "carat         0\n",
       "cut           0\n",
       "color         0\n",
       "clarity       0\n",
       "depth         0\n",
       "table         0\n",
       "price         0\n",
       "x             0\n",
       "y             0\n",
       "z             0\n",
       "dtype: int64"
      ]
     },
     "execution_count": 15,
     "metadata": {},
     "output_type": "execute_result"
    }
   ],
   "source": [
    "### code here\n",
    "diamond.isnull().sum()"
   ]
  },
  {
   "cell_type": "markdown",
   "metadata": {
    "id": "cTnyI4_0tdj0"
   },
   "source": [
    "###### 14. Write a Pandas program to calculate the multiply of x, y and z for each cut of diamonds DataFrame."
   ]
  },
  {
   "cell_type": "code",
   "execution_count": 16,
   "metadata": {
    "id": "xb26UEm_obC8"
   },
   "outputs": [
    {
     "data": {
      "text/plain": [
       "0         38.202030\n",
       "1         34.505856\n",
       "3         46.724580\n",
       "6         38.830870\n",
       "7         42.321081\n",
       "            ...    \n",
       "53935    115.920000\n",
       "53936    118.110175\n",
       "53937    114.449728\n",
       "53938    140.766120\n",
       "53939    124.568444\n",
       "Length: 53937, dtype: float64"
      ]
     },
     "execution_count": 16,
     "metadata": {},
     "output_type": "execute_result"
    }
   ],
   "source": [
    "### code here\n",
    "diamond.x*diamond.y*diamond.z"
   ]
  },
  {
   "cell_type": "markdown",
   "metadata": {
    "id": "BJBqso15t3mV"
   },
   "source": [
    "##### 15. Write a Pandas program to read rows 0 through 2 (inclusive), columns ‘color’ and ‘price’ of diamonds DataFrame."
   ]
  },
  {
   "cell_type": "code",
   "execution_count": 17,
   "metadata": {
    "id": "IT5EQSs5obFr"
   },
   "outputs": [
    {
     "data": {
      "text/html": [
       "<div>\n",
       "<style scoped>\n",
       "    .dataframe tbody tr th:only-of-type {\n",
       "        vertical-align: middle;\n",
       "    }\n",
       "\n",
       "    .dataframe tbody tr th {\n",
       "        vertical-align: top;\n",
       "    }\n",
       "\n",
       "    .dataframe thead th {\n",
       "        text-align: right;\n",
       "    }\n",
       "</style>\n",
       "<table border=\"1\" class=\"dataframe\">\n",
       "  <thead>\n",
       "    <tr style=\"text-align: right;\">\n",
       "      <th></th>\n",
       "      <th>color</th>\n",
       "      <th>clarity</th>\n",
       "      <th>depth</th>\n",
       "      <th>table</th>\n",
       "      <th>price</th>\n",
       "    </tr>\n",
       "  </thead>\n",
       "  <tbody>\n",
       "    <tr>\n",
       "      <th>0</th>\n",
       "      <td>E</td>\n",
       "      <td>SI2</td>\n",
       "      <td>61.5</td>\n",
       "      <td>55.0</td>\n",
       "      <td>326</td>\n",
       "    </tr>\n",
       "    <tr>\n",
       "      <th>1</th>\n",
       "      <td>E</td>\n",
       "      <td>SI1</td>\n",
       "      <td>59.8</td>\n",
       "      <td>61.0</td>\n",
       "      <td>326</td>\n",
       "    </tr>\n",
       "  </tbody>\n",
       "</table>\n",
       "</div>"
      ],
      "text/plain": [
       "  color clarity  depth  table  price\n",
       "0     E     SI2   61.5   55.0    326\n",
       "1     E     SI1   59.8   61.0    326"
      ]
     },
     "execution_count": 17,
     "metadata": {},
     "output_type": "execute_result"
    }
   ],
   "source": [
    "## code here\n",
    "diamond.loc[0:2,'color':'price']"
   ]
  },
  {
   "cell_type": "markdown",
   "metadata": {
    "id": "9I0eio5nuFW9"
   },
   "source": [
    "###### 16. Write a Pandas program to read rows in positions 0 and 1, columns in positions 0 and 3 of diamonds DataFrame."
   ]
  },
  {
   "cell_type": "code",
   "execution_count": 18,
   "metadata": {
    "id": "fYJL0uu2tlD6"
   },
   "outputs": [
    {
     "data": {
      "text/html": [
       "<div>\n",
       "<style scoped>\n",
       "    .dataframe tbody tr th:only-of-type {\n",
       "        vertical-align: middle;\n",
       "    }\n",
       "\n",
       "    .dataframe tbody tr th {\n",
       "        vertical-align: top;\n",
       "    }\n",
       "\n",
       "    .dataframe thead th {\n",
       "        text-align: right;\n",
       "    }\n",
       "</style>\n",
       "<table border=\"1\" class=\"dataframe\">\n",
       "  <thead>\n",
       "    <tr style=\"text-align: right;\">\n",
       "      <th></th>\n",
       "      <th>Unnamed: 0</th>\n",
       "      <th>color</th>\n",
       "    </tr>\n",
       "  </thead>\n",
       "  <tbody>\n",
       "    <tr>\n",
       "      <th>0</th>\n",
       "      <td>1</td>\n",
       "      <td>E</td>\n",
       "    </tr>\n",
       "    <tr>\n",
       "      <th>1</th>\n",
       "      <td>2</td>\n",
       "      <td>E</td>\n",
       "    </tr>\n",
       "  </tbody>\n",
       "</table>\n",
       "</div>"
      ],
      "text/plain": [
       "   Unnamed: 0 color\n",
       "0           1     E\n",
       "1           2     E"
      ]
     },
     "execution_count": 18,
     "metadata": {},
     "output_type": "execute_result"
    }
   ],
   "source": [
    "### code here\n",
    "diamond.iloc[[0,1],[0,3]]"
   ]
  },
  {
   "cell_type": "markdown",
   "metadata": {
    "id": "hKD0G8KDuTWW"
   },
   "source": [
    "##### 17. Write a Pandas program to get randomly sample rows from diamonds DataFrame."
   ]
  },
  {
   "cell_type": "code",
   "execution_count": 19,
   "metadata": {
    "id": "8sVNHGChtlG0"
   },
   "outputs": [
    {
     "data": {
      "text/html": [
       "<div>\n",
       "<style scoped>\n",
       "    .dataframe tbody tr th:only-of-type {\n",
       "        vertical-align: middle;\n",
       "    }\n",
       "\n",
       "    .dataframe tbody tr th {\n",
       "        vertical-align: top;\n",
       "    }\n",
       "\n",
       "    .dataframe thead th {\n",
       "        text-align: right;\n",
       "    }\n",
       "</style>\n",
       "<table border=\"1\" class=\"dataframe\">\n",
       "  <thead>\n",
       "    <tr style=\"text-align: right;\">\n",
       "      <th></th>\n",
       "      <th>Unnamed: 0</th>\n",
       "      <th>carat</th>\n",
       "      <th>cut</th>\n",
       "      <th>color</th>\n",
       "      <th>clarity</th>\n",
       "      <th>depth</th>\n",
       "      <th>table</th>\n",
       "      <th>price</th>\n",
       "      <th>x</th>\n",
       "      <th>y</th>\n",
       "      <th>z</th>\n",
       "    </tr>\n",
       "  </thead>\n",
       "  <tbody>\n",
       "    <tr>\n",
       "      <th>44261</th>\n",
       "      <td>44262</td>\n",
       "      <td>0.50</td>\n",
       "      <td>Ideal</td>\n",
       "      <td>E</td>\n",
       "      <td>VS2</td>\n",
       "      <td>61.6</td>\n",
       "      <td>57.0</td>\n",
       "      <td>1575</td>\n",
       "      <td>5.09</td>\n",
       "      <td>5.13</td>\n",
       "      <td>3.15</td>\n",
       "    </tr>\n",
       "    <tr>\n",
       "      <th>53419</th>\n",
       "      <td>53420</td>\n",
       "      <td>0.72</td>\n",
       "      <td>Very Good</td>\n",
       "      <td>F</td>\n",
       "      <td>SI1</td>\n",
       "      <td>63.4</td>\n",
       "      <td>58.0</td>\n",
       "      <td>2670</td>\n",
       "      <td>5.69</td>\n",
       "      <td>5.66</td>\n",
       "      <td>3.60</td>\n",
       "    </tr>\n",
       "    <tr>\n",
       "      <th>29956</th>\n",
       "      <td>29957</td>\n",
       "      <td>0.23</td>\n",
       "      <td>Premium</td>\n",
       "      <td>F</td>\n",
       "      <td>VVS2</td>\n",
       "      <td>61.3</td>\n",
       "      <td>59.0</td>\n",
       "      <td>445</td>\n",
       "      <td>3.94</td>\n",
       "      <td>3.99</td>\n",
       "      <td>2.43</td>\n",
       "    </tr>\n",
       "  </tbody>\n",
       "</table>\n",
       "</div>"
      ],
      "text/plain": [
       "       Unnamed: 0  carat        cut color clarity  depth  table  price     x  \\\n",
       "44261       44262   0.50      Ideal     E     VS2   61.6   57.0   1575  5.09   \n",
       "53419       53420   0.72  Very Good     F     SI1   63.4   58.0   2670  5.69   \n",
       "29956       29957   0.23    Premium     F    VVS2   61.3   59.0    445  3.94   \n",
       "\n",
       "          y     z  \n",
       "44261  5.13  3.15  \n",
       "53419  5.66  3.60  \n",
       "29956  3.99  2.43  "
      ]
     },
     "execution_count": 19,
     "metadata": {},
     "output_type": "execute_result"
    }
   ],
   "source": [
    "### code here\n",
    "diamond.sample(n=3)"
   ]
  },
  {
   "cell_type": "markdown",
   "metadata": {
    "id": "0hRG6-8Fugsl"
   },
   "source": [
    "###### 18. Write a Pandas program to get sample 75% of the diamonds DataFrame's rows without replacement and store the remaining 25% of the rows in another DataFrame."
   ]
  },
  {
   "cell_type": "code",
   "execution_count": 20,
   "metadata": {
    "id": "WRrlJ3gwtlJv"
   },
   "outputs": [
    {
     "name": "stdout",
     "output_type": "stream",
     "text": [
      "       Unnamed: 0  carat        cut color clarity  depth  table  price     x  \\\n",
      "43507       43508   0.43      Ideal     F    VVS1   62.0   57.0   1422  4.84   \n",
      "4072         4073   0.31       Good     D     SI1   63.5   56.0    571  4.29   \n",
      "41354       41355   0.43      Ideal     I     VS1   61.8   55.0   1218  4.88   \n",
      "44741       44742   0.62      Ideal     H     SI1   61.4   56.0   1618  5.51   \n",
      "30657       30658   0.38      Ideal     I    VVS2   61.7   56.0    737  4.67   \n",
      "...           ...    ...        ...   ...     ...    ...    ...    ...   ...   \n",
      "4680         4681   0.73      Ideal     D     VS2   62.3   54.0   3673  5.77   \n",
      "34858       34859   0.30       Good     G    VVS2   63.6   57.0    878  4.30   \n",
      "13932       13933   1.27  Very Good     J     SI1   63.2   55.0   5669  6.89   \n",
      "31094       31095   0.36  Very Good     G    VVS2   61.7   56.0    753  4.56   \n",
      "41428       41429   0.53  Very Good     E     SI2   63.2   54.0   1227  5.19   \n",
      "\n",
      "          y     z  \n",
      "43507  4.81  2.99  \n",
      "4072   4.31  2.73  \n",
      "41354  4.90  3.02  \n",
      "44741  5.49  3.38  \n",
      "30657  4.70  2.89  \n",
      "...     ...   ...  \n",
      "4680   5.80  3.60  \n",
      "34858  4.26  2.72  \n",
      "13932  6.87  4.35  \n",
      "31094  4.58  2.82  \n",
      "41428  5.16  3.27  \n",
      "\n",
      "[40453 rows x 11 columns]\n",
      "Remaining 25% of the rows:\n",
      "       Unnamed: 0  carat        cut color clarity  depth  table  price     x  \\\n",
      "16             17   0.30      Ideal     I     SI2   62.0   54.0    348  4.31   \n",
      "17             18   0.30       Good     J     SI1   63.4   54.0    351  4.23   \n",
      "21             22   0.23  Very Good     E     VS2   63.8   55.0    352  3.85   \n",
      "29             30   0.23  Very Good     F     VS1   60.9   57.0    357  3.96   \n",
      "36             37   0.23       Good     E     VS1   64.1   59.0    402  3.83   \n",
      "...           ...    ...        ...   ...     ...    ...    ...    ...   ...   \n",
      "53919       53920   0.76      Ideal     I    VVS1   62.2   55.0   2753  5.89   \n",
      "53923       53924   0.73      Ideal     I     VS2   61.3   56.0   2756  5.80   \n",
      "53926       53927   0.71      Ideal     E     SI1   61.9   56.0   2756  5.71   \n",
      "53934       53935   0.72    Premium     D     SI1   62.7   59.0   2757  5.69   \n",
      "53935       53936   0.72      Ideal     D     SI1   60.8   57.0   2757  5.75   \n",
      "\n",
      "          y     z  \n",
      "16     4.34  2.68  \n",
      "17     4.29  2.70  \n",
      "21     3.92  2.48  \n",
      "29     3.99  2.42  \n",
      "36     3.85  2.46  \n",
      "...     ...   ...  \n",
      "53919  5.87  3.66  \n",
      "53923  5.84  3.57  \n",
      "53926  5.73  3.54  \n",
      "53934  5.73  3.58  \n",
      "53935  5.76  3.50  \n",
      "\n",
      "[13484 rows x 11 columns]\n"
     ]
    }
   ],
   "source": [
    "### code here\n",
    "result=diamond.sample(frac=0.75, random_state=99)\n",
    "print(result)\n",
    "print(\"Remaining 25% of the rows:\")\n",
    "print(diamond.loc[~diamond.index.isin(result.index), :])"
   ]
  },
  {
   "cell_type": "markdown",
   "metadata": {
    "id": "R4cLt_TIu4rF"
   },
   "source": [
    "###### 19. Write a Pandas program to read the diamonds DataFrame and detect duplicate color."
   ]
  },
  {
   "cell_type": "code",
   "execution_count": 21,
   "metadata": {
    "id": "I0LQz9SkmckP"
   },
   "outputs": [
    {
     "data": {
      "text/plain": [
       "53932"
      ]
     },
     "execution_count": 21,
     "metadata": {},
     "output_type": "execute_result"
    }
   ],
   "source": [
    "#### code here\n",
    "diamond.cut.duplicated().sum()"
   ]
  },
  {
   "cell_type": "markdown",
   "metadata": {
    "id": "w1vDKDHcu8s_"
   },
   "source": [
    "###### 20. Write a Pandas program to count the duplicate rows of diamonds DataFrame."
   ]
  },
  {
   "cell_type": "code",
   "execution_count": 22,
   "metadata": {
    "id": "izBTT7LiuyKL"
   },
   "outputs": [
    {
     "data": {
      "text/plain": [
       "0"
      ]
     },
     "execution_count": 22,
     "metadata": {},
     "output_type": "execute_result"
    }
   ],
   "source": [
    "#### code here\n",
    "diamond.duplicated().sum()"
   ]
  },
  {
   "cell_type": "code",
   "execution_count": null,
   "metadata": {
    "id": "1DxLqGeOuyM_"
   },
   "outputs": [],
   "source": []
  }
 ],
 "metadata": {
  "colab": {
   "collapsed_sections": [],
   "name": "pandas_assignment_day_4.ipynb",
   "provenance": []
  },
  "kernelspec": {
   "display_name": "Python 3 (ipykernel)",
   "language": "python",
   "name": "python3"
  },
  "language_info": {
   "codemirror_mode": {
    "name": "ipython",
    "version": 3
   },
   "file_extension": ".py",
   "mimetype": "text/x-python",
   "name": "python",
   "nbconvert_exporter": "python",
   "pygments_lexer": "ipython3",
   "version": "3.9.13"
  }
 },
 "nbformat": 4,
 "nbformat_minor": 1
}
